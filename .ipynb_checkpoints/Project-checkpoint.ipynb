{
 "cells": [
  {
   "cell_type": "markdown",
   "metadata": {},
   "source": [
    "# Interactive widget for the liar dataset\n",
    "In order to interact with the widget, execute the cell below. For that matter, either click on the <kbd>Run</kbd> button in the toolbar at the top or click on the cell and press <kbd>Ctrl</kbd> + <kbd>Enter</kbd>. Enjoy!\n",
    "\n",
    "Here is a link to go back to the [Data Story](https://gjemsvoldrahm.github.io/)"
   ]
  },
  {
   "cell_type": "code",
   "execution_count": null,
   "metadata": {},
   "outputs": [],
   "source": [
    "%run ./data/widget.py\n",
    "HTML(s)"
   ]
  }
 ],
 "metadata": {
  "kernelspec": {
   "display_name": "Python [default]",
   "language": "python",
   "name": "python3"
  },
  "language_info": {
   "codemirror_mode": {
    "name": "ipython",
    "version": 3
   },
   "file_extension": ".py",
   "mimetype": "text/x-python",
   "name": "python",
   "nbconvert_exporter": "python",
   "pygments_lexer": "ipython3",
   "version": "3.6.5"
  }
 },
 "nbformat": 4,
 "nbformat_minor": 2
}
